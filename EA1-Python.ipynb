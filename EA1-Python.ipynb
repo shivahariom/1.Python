{
 "cells": [
  {
   "cell_type": "code",
   "execution_count": 1,
   "id": "50ba40a4-480f-4f1a-89c4-5b88d90dd321",
   "metadata": {},
   "outputs": [
    {
     "name": "stdout",
     "output_type": "stream",
     "text": [
      "HOPE AI\n"
     ]
    }
   ],
   "source": [
    "#Extra Assignment 1 - Python\n",
    "#15-07-2025\n",
    "#Q1 : Print \"HOPE AI\"\n",
    "print(\"HOPE AI\")"
   ]
  },
  {
   "cell_type": "code",
   "execution_count": 4,
   "id": "c5c217b1-0737-497e-a0b1-622afec308e5",
   "metadata": {},
   "outputs": [
    {
     "name": "stdin",
     "output_type": "stream",
     "text": [
      "Enter your institute name? : HOPE AI\n"
     ]
    }
   ],
   "source": [
    "#Q2 : Buy input \"Enter your institute name? : HOPE AI\"\n",
    "institute=input(\"Enter your institute name? :\")"
   ]
  },
  {
   "cell_type": "code",
   "execution_count": 3,
   "id": "f61bfc89-95a0-42ce-aac0-13ca5fb72384",
   "metadata": {},
   "outputs": [
    {
     "name": "stdin",
     "output_type": "stream",
     "text": [
      "Enter your name: Raj\n",
      "Enter your age: 15\n",
      "Enter your school name: Guru school\n",
      "Enter your degree: B.E CSE\n"
     ]
    }
   ],
   "source": [
    "#Q3 : Buy inputs\n",
    "#Enter your name: Raj\n",
    "#Enter your age: 15\n",
    "#Enter your school name: Guru school\n",
    "#Enter your drgree: B.E CSE\n",
    "name=input(\"Enter your name:\")\n",
    "age=input(\"Enter your age:\")\n",
    "school=input(\"Enter your school name:\")\n",
    "degree=input(\"Enter your degree:\")"
   ]
  },
  {
   "cell_type": "code",
   "execution_count": 5,
   "id": "346a8763-13f5-495d-83d2-1b44f0c11f61",
   "metadata": {},
   "outputs": [
    {
     "name": "stdin",
     "output_type": "stream",
     "text": [
      "a= 43\n",
      "b= 34\n"
     ]
    },
    {
     "name": "stdout",
     "output_type": "stream",
     "text": [
      "add = 77\n"
     ]
    }
   ],
   "source": [
    "#Q4 : Addition\n",
    "#a= 43\n",
    "#b= 34\n",
    "#add = 77\n",
    "a=int(input(\"a=\"))\n",
    "b=int(input(\"b=\"))\n",
    "print(\"add =\",a+b)"
   ]
  },
  {
   "cell_type": "code",
   "execution_count": 6,
   "id": "c2375f89-1605-45c8-b622-5f0e2623bc7a",
   "metadata": {},
   "outputs": [
    {
     "name": "stdin",
     "output_type": "stream",
     "text": [
      "a= 43\n",
      "b= 34\n"
     ]
    },
    {
     "name": "stdout",
     "output_type": "stream",
     "text": [
      "sub = 9\n"
     ]
    }
   ],
   "source": [
    "#Q5 : Subtraction\n",
    "#a= 43\n",
    "#b= 34\n",
    "#Sub = 9\n",
    "a=int(input(\"a=\"))\n",
    "b=int(input(\"b=\"))\n",
    "print(\"sub =\",a-b)"
   ]
  },
  {
   "cell_type": "code",
   "execution_count": 7,
   "id": "652b1179-52f4-4520-86a3-a069862ac0be",
   "metadata": {},
   "outputs": [
    {
     "name": "stdin",
     "output_type": "stream",
     "text": [
      "a= 63\n",
      "b= 97\n"
     ]
    },
    {
     "name": "stdout",
     "output_type": "stream",
     "text": [
      "Mul = 6111\n"
     ]
    }
   ],
   "source": [
    "#Q6 : Multiplication\n",
    "#a= 63\n",
    "#b= 97\n",
    "#Mul = 6111\n",
    "a=int(input(\"a=\"))\n",
    "b=int(input(\"b=\"))\n",
    "print(\"Mul =\",a*b)"
   ]
  },
  {
   "cell_type": "code",
   "execution_count": 9,
   "id": "72e9eed4-5170-4ce4-99e2-5b1ff4c0e424",
   "metadata": {},
   "outputs": [
    {
     "name": "stdin",
     "output_type": "stream",
     "text": [
      "a= 76\n",
      "b= 31\n"
     ]
    },
    {
     "name": "stdout",
     "output_type": "stream",
     "text": [
      "Float Div = 2.4516129032258065\n"
     ]
    }
   ],
   "source": [
    "#Q7 : Division\n",
    "#a= 76\n",
    "#b= 31\n",
    "#Float Div = 2.4516129032258065\n",
    "a=int(input(\"a=\"))\n",
    "b=int(input(\"b=\"))\n",
    "print(\"Float Div =\",a/b)"
   ]
  },
  {
   "cell_type": "code",
   "execution_count": 11,
   "id": "439683ac-6de4-4bdd-b9ab-0d884d25028e",
   "metadata": {},
   "outputs": [
    {
     "name": "stdin",
     "output_type": "stream",
     "text": [
      "a= 76\n",
      "b= 31\n"
     ]
    },
    {
     "name": "stdout",
     "output_type": "stream",
     "text": [
      "Floor Div = 2\n"
     ]
    }
   ],
   "source": [
    "#Q8 : Floor Division\n",
    "#a= 76\n",
    "#b= 31\n",
    "#Floor Div = 2\n",
    "import math\n",
    "a=int(input(\"a=\"))\n",
    "b=int(input(\"b=\"))\n",
    "print(\"Floor Div =\",math.floor(a/b))"
   ]
  },
  {
   "cell_type": "code",
   "execution_count": 12,
   "id": "fa3d04a6-22b6-4117-b925-667fbaa47c01",
   "metadata": {},
   "outputs": [
    {
     "name": "stdin",
     "output_type": "stream",
     "text": [
      "a= 76\n",
      "b= 31\n"
     ]
    },
    {
     "name": "stdout",
     "output_type": "stream",
     "text": [
      "Modulo = 14\n"
     ]
    }
   ],
   "source": [
    "#Q9 : Module\n",
    "#a= 76\n",
    "#b= 31\n",
    "#Modulo = 14\n",
    "a=int(input(\"a=\"))\n",
    "b=int(input(\"b=\"))\n",
    "print(\"Modulo =\",a%b)"
   ]
  },
  {
   "cell_type": "code",
   "execution_count": 13,
   "id": "704e8da4-6ad7-4af7-aff3-cda3adc8c92b",
   "metadata": {},
   "outputs": [
    {
     "name": "stdin",
     "output_type": "stream",
     "text": [
      "a= 4\n",
      "b= 4\n"
     ]
    },
    {
     "name": "stdout",
     "output_type": "stream",
     "text": [
      "Power = 256\n"
     ]
    }
   ],
   "source": [
    "#Q10 : Power\n",
    "#a= 4\n",
    "#b= 4\n",
    "#Power = 256\n",
    "a=int(input(\"a=\"))\n",
    "b=int(input(\"b=\"))\n",
    "print(\"Power =\",a**b)"
   ]
  },
  {
   "cell_type": "code",
   "execution_count": null,
   "id": "830266f1-f578-41e8-9723-9e7482239780",
   "metadata": {},
   "outputs": [],
   "source": []
  }
 ],
 "metadata": {
  "kernelspec": {
   "display_name": "Python [conda env:base] *",
   "language": "python",
   "name": "conda-base-py"
  },
  "language_info": {
   "codemirror_mode": {
    "name": "ipython",
    "version": 3
   },
   "file_extension": ".py",
   "mimetype": "text/x-python",
   "name": "python",
   "nbconvert_exporter": "python",
   "pygments_lexer": "ipython3",
   "version": "3.13.5"
  }
 },
 "nbformat": 4,
 "nbformat_minor": 5
}
