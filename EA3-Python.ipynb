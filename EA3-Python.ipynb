{
 "cells": [
  {
   "cell_type": "code",
   "execution_count": 2,
   "id": "2f9dbff7-568b-46d7-862f-cfd04a75bfc7",
   "metadata": {},
   "outputs": [
    {
     "name": "stdin",
     "output_type": "stream",
     "text": [
      "value: 10\n"
     ]
    },
    {
     "name": "stdout",
     "output_type": "stream",
     "text": [
      "CORRECT\n"
     ]
    }
   ],
   "source": [
    "#Q1 print 'CORRECT' if i == 10\n",
    "num=int(input(\"value:\"))\n",
    "if(num==10):\n",
    "    print(\"CORRECT\")"
   ]
  },
  {
   "cell_type": "code",
   "execution_count": 4,
   "id": "27a4ebf1-111e-4023-81d0-75e416eef1af",
   "metadata": {},
   "outputs": [
    {
     "name": "stdin",
     "output_type": "stream",
     "text": [
      "Enter the password: HOPE@123\n"
     ]
    },
    {
     "name": "stdout",
     "output_type": "stream",
     "text": [
      "Your password is correct\n"
     ]
    }
   ],
   "source": [
    "#Q2 : Check the password, using if and else\n",
    "pwd=input(\"Enter the password:\")\n",
    "if(pwd==\"HOPE@123\"):\n",
    "    print(\"Your password is correct\")"
   ]
  },
  {
   "cell_type": "code",
   "execution_count": 5,
   "id": "a25c1131-8051-433d-8c2e-0af0a1a1bd1e",
   "metadata": {},
   "outputs": [
    {
     "name": "stdin",
     "output_type": "stream",
     "text": [
      "age: 20\n"
     ]
    },
    {
     "name": "stdout",
     "output_type": "stream",
     "text": [
      "Adult\n"
     ]
    }
   ],
   "source": [
    "#Q3 : Catagory the people by their age like children, adult, citizen, senior citizen...\n",
    "age=int(input(\"age:\"))\n",
    "if(age <= 18):\n",
    "    print(\"Children\")\n",
    "elif(age <= 35):\n",
    "    print(\"Adult\")\n",
    "elif(age <= 60):\n",
    "    print(\"Citizen\")\n",
    "else:\n",
    "    print(\"Senior Citizen\")"
   ]
  },
  {
   "cell_type": "code",
   "execution_count": 9,
   "id": "642a242a-08b6-4bba-9697-82bf3a7b5cef",
   "metadata": {},
   "outputs": [
    {
     "name": "stdin",
     "output_type": "stream",
     "text": [
      "Enter any number: 4.5\n"
     ]
    },
    {
     "name": "stdout",
     "output_type": "stream",
     "text": [
      "Number is positive\n"
     ]
    }
   ],
   "source": [
    "#Q4 : Find whether given number is positive or negative\n",
    "num=float(input(\"Enter any number:\"))\n",
    "if(num > 0):\n",
    "    print(\"No is positive\")\n",
    "elif(num < 0):\n",
    "    print(\"No is negative\")\n",
    "else:\n",
    "    print(\"Zero\")"
   ]
  },
  {
   "cell_type": "code",
   "execution_count": 12,
   "id": "61626ac5-6cc2-4077-a6aa-e416f4c89352",
   "metadata": {},
   "outputs": [
    {
     "name": "stdin",
     "output_type": "stream",
     "text": [
      "Enter a number to check: 100\n"
     ]
    },
    {
     "name": "stdout",
     "output_type": "stream",
     "text": [
      "No is divisible by 5\n"
     ]
    }
   ],
   "source": [
    "#Q5 : Check whether the given number is divisible by 5\n",
    "num=int(input(\"Enter a number to check:\"))\n",
    "if((num % 5)==0):\n",
    "    print(\"No is divisible by 5\")\n",
    "else:\n",
    "    print(\"No is not divisible by 5\")"
   ]
  },
  {
   "cell_type": "code",
   "execution_count": null,
   "id": "6fd93b18-b464-4708-bf18-20a9f240a19f",
   "metadata": {},
   "outputs": [],
   "source": []
  }
 ],
 "metadata": {
  "kernelspec": {
   "display_name": "Python [conda env:base] *",
   "language": "python",
   "name": "conda-base-py"
  },
  "language_info": {
   "codemirror_mode": {
    "name": "ipython",
    "version": 3
   },
   "file_extension": ".py",
   "mimetype": "text/x-python",
   "name": "python",
   "nbconvert_exporter": "python",
   "pygments_lexer": "ipython3",
   "version": "3.13.5"
  }
 },
 "nbformat": 4,
 "nbformat_minor": 5
}
